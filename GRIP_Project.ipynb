{
  "nbformat": 4,
  "nbformat_minor": 0,
  "metadata": {
    "colab": {
      "name": "GRIP Project.ipynb",
      "provenance": []
    },
    "kernelspec": {
      "display_name": "Python 3",
      "name": "python3"
    },
    "language_info": {
      "name": "python"
    }
  },
  "cells": [
    {
      "cell_type": "markdown",
      "metadata": {
        "id": "7Grc6xZ8inbw"
      },
      "source": [
        "Stock market Predication using Numerical Analysis."
      ]
    },
    {
      "cell_type": "code",
      "metadata": {
        "colab": {
          "base_uri": "https://localhost:8080/"
        },
        "id": "PTfaJ2NgJ8sK",
        "outputId": "17f0e7d4-2b25-4300-d837-5f9b72daf5be"
      },
      "source": [
        "pip install yfinance --upgrade --no-cache-dir"
      ],
      "execution_count": null,
      "outputs": [
        {
          "name": "stdout",
          "output_type": "stream",
          "text": [
            "Requirement already satisfied: yfinance in /usr/local/lib/python3.7/dist-packages (0.1.63)\n",
            "Requirement already satisfied: lxml>=4.5.1 in /usr/local/lib/python3.7/dist-packages (from yfinance) (4.6.3)\n",
            "Requirement already satisfied: requests>=2.20 in /usr/local/lib/python3.7/dist-packages (from yfinance) (2.23.0)\n",
            "Requirement already satisfied: numpy>=1.15 in /usr/local/lib/python3.7/dist-packages (from yfinance) (1.19.5)\n",
            "Requirement already satisfied: multitasking>=0.0.7 in /usr/local/lib/python3.7/dist-packages (from yfinance) (0.0.9)\n",
            "Requirement already satisfied: pandas>=0.24 in /usr/local/lib/python3.7/dist-packages (from yfinance) (1.1.5)\n",
            "Requirement already satisfied: pytz>=2017.2 in /usr/local/lib/python3.7/dist-packages (from pandas>=0.24->yfinance) (2018.9)\n",
            "Requirement already satisfied: python-dateutil>=2.7.3 in /usr/local/lib/python3.7/dist-packages (from pandas>=0.24->yfinance) (2.8.2)\n",
            "Requirement already satisfied: six>=1.5 in /usr/local/lib/python3.7/dist-packages (from python-dateutil>=2.7.3->pandas>=0.24->yfinance) (1.15.0)\n",
            "Requirement already satisfied: idna<3,>=2.5 in /usr/local/lib/python3.7/dist-packages (from requests>=2.20->yfinance) (2.10)\n",
            "Requirement already satisfied: certifi>=2017.4.17 in /usr/local/lib/python3.7/dist-packages (from requests>=2.20->yfinance) (2021.5.30)\n",
            "Requirement already satisfied: urllib3!=1.25.0,!=1.25.1,<1.26,>=1.21.1 in /usr/local/lib/python3.7/dist-packages (from requests>=2.20->yfinance) (1.24.3)\n",
            "Requirement already satisfied: chardet<4,>=3.0.2 in /usr/local/lib/python3.7/dist-packages (from requests>=2.20->yfinance) (3.0.4)\n"
          ]
        }
      ]
    },
    {
      "cell_type": "code",
      "metadata": {
        "id": "jYWVZgv8eNz1"
      },
      "source": [
        "#importing various library\n",
        "import numpy as np \n",
        "import pandas as pd\n",
        "import matplotlib.pyplot as plt\n",
        "import seaborn as sns\n",
        "from sklearn.linear_model import LinearRegression\n",
        "from sklearn.model_selection import train_test_split\n",
        "from sklearn.metrics import mean_squared_error, r2_score\n",
        "import warnings\n",
        "warnings.filterwarnings(\"ignore\")\n",
        "import pandas.util.testing as tm\n",
        "from pandas import to_datetime\n",
        "from pandas import DataFrame\n",
        "from fbprophet import Prophet"
      ],
      "execution_count": null,
      "outputs": []
    },
    {
      "cell_type": "code",
      "metadata": {
        "colab": {
          "base_uri": "https://localhost:8080/"
        },
        "id": "IX3pM_IIJ8kc",
        "outputId": "d35ec4f6-3ede-4150-8536-a67d62b2123d"
      },
      "source": [
        "import yfinance as yf\n",
        "bse_data = yf.download('^BSESN', start='2016-01-02', end='2021-09-01')"
      ],
      "execution_count": null,
      "outputs": [
        {
          "name": "stdout",
          "output_type": "stream",
          "text": [
            "\r[*********************100%***********************]  1 of 1 completed\n"
          ]
        }
      ]
    },
    {
      "cell_type": "code",
      "metadata": {
        "id": "z0N_OqT-P2FS"
      },
      "source": [
        "bse_data.rename(columns={'Open': 'open', 'High': 'high', 'Low': 'low', 'Close': 'close', 'Adj Close': 'adjclose', 'Volume': 'volume'}, inplace = True)"
      ],
      "execution_count": null,
      "outputs": []
    },
    {
      "cell_type": "code",
      "metadata": {
        "colab": {
          "base_uri": "https://localhost:8080/"
        },
        "id": "joJNzXODP95m",
        "outputId": "b9bc4eb0-a9f8-4ca8-b57a-b502c5e73b9b"
      },
      "source": [
        "bse_data.info()"
      ],
      "execution_count": null,
      "outputs": [
        {
          "name": "stdout",
          "output_type": "stream",
          "text": [
            "<class 'pandas.core.frame.DataFrame'>\n",
            "DatetimeIndex: 1391 entries, 2016-01-04 to 2021-08-31\n",
            "Data columns (total 6 columns):\n",
            " #   Column    Non-Null Count  Dtype  \n",
            "---  ------    --------------  -----  \n",
            " 0   open      1391 non-null   float64\n",
            " 1   high      1391 non-null   float64\n",
            " 2   low       1391 non-null   float64\n",
            " 3   close     1391 non-null   float64\n",
            " 4   adjclose  1391 non-null   float64\n",
            " 5   volume    1391 non-null   int64  \n",
            "dtypes: float64(5), int64(1)\n",
            "memory usage: 76.1 KB\n"
          ]
        }
      ]
    },
    {
      "cell_type": "code",
      "metadata": {
        "colab": {
          "base_uri": "https://localhost:8080/",
          "height": 450
        },
        "id": "Kq-3RVMmlSaU",
        "outputId": "7335a4d7-adea-4511-ecd0-2127c2c49aef"
      },
      "source": [
        "bse_data"
      ],
      "execution_count": null,
      "outputs": [
        {
          "data": {
            "text/html": [
              "<div>\n",
              "<style scoped>\n",
              "    .dataframe tbody tr th:only-of-type {\n",
              "        vertical-align: middle;\n",
              "    }\n",
              "\n",
              "    .dataframe tbody tr th {\n",
              "        vertical-align: top;\n",
              "    }\n",
              "\n",
              "    .dataframe thead th {\n",
              "        text-align: right;\n",
              "    }\n",
              "</style>\n",
              "<table border=\"1\" class=\"dataframe\">\n",
              "  <thead>\n",
              "    <tr style=\"text-align: right;\">\n",
              "      <th></th>\n",
              "      <th>open</th>\n",
              "      <th>high</th>\n",
              "      <th>low</th>\n",
              "      <th>close</th>\n",
              "      <th>adjclose</th>\n",
              "      <th>volume</th>\n",
              "    </tr>\n",
              "    <tr>\n",
              "      <th>Date</th>\n",
              "      <th></th>\n",
              "      <th></th>\n",
              "      <th></th>\n",
              "      <th></th>\n",
              "      <th></th>\n",
              "      <th></th>\n",
              "    </tr>\n",
              "  </thead>\n",
              "  <tbody>\n",
              "    <tr>\n",
              "      <th>2016-01-04</th>\n",
              "      <td>26116.519531</td>\n",
              "      <td>26116.519531</td>\n",
              "      <td>25596.570312</td>\n",
              "      <td>25623.349609</td>\n",
              "      <td>25623.349609</td>\n",
              "      <td>9100</td>\n",
              "    </tr>\n",
              "    <tr>\n",
              "      <th>2016-01-05</th>\n",
              "      <td>25744.699219</td>\n",
              "      <td>25766.759766</td>\n",
              "      <td>25513.750000</td>\n",
              "      <td>25580.339844</td>\n",
              "      <td>25580.339844</td>\n",
              "      <td>10300</td>\n",
              "    </tr>\n",
              "    <tr>\n",
              "      <th>2016-01-06</th>\n",
              "      <td>25628.230469</td>\n",
              "      <td>25632.570312</td>\n",
              "      <td>25357.699219</td>\n",
              "      <td>25406.330078</td>\n",
              "      <td>25406.330078</td>\n",
              "      <td>13400</td>\n",
              "    </tr>\n",
              "    <tr>\n",
              "      <th>2016-01-07</th>\n",
              "      <td>25224.699219</td>\n",
              "      <td>25230.349609</td>\n",
              "      <td>24825.699219</td>\n",
              "      <td>24851.830078</td>\n",
              "      <td>24851.830078</td>\n",
              "      <td>11800</td>\n",
              "    </tr>\n",
              "    <tr>\n",
              "      <th>2016-01-08</th>\n",
              "      <td>24969.019531</td>\n",
              "      <td>25083.550781</td>\n",
              "      <td>24887.220703</td>\n",
              "      <td>24934.330078</td>\n",
              "      <td>24934.330078</td>\n",
              "      <td>15900</td>\n",
              "    </tr>\n",
              "    <tr>\n",
              "      <th>...</th>\n",
              "      <td>...</td>\n",
              "      <td>...</td>\n",
              "      <td>...</td>\n",
              "      <td>...</td>\n",
              "      <td>...</td>\n",
              "      <td>...</td>\n",
              "    </tr>\n",
              "    <tr>\n",
              "      <th>2021-08-25</th>\n",
              "      <td>56067.058594</td>\n",
              "      <td>56198.128906</td>\n",
              "      <td>55899.960938</td>\n",
              "      <td>55944.210938</td>\n",
              "      <td>55944.210938</td>\n",
              "      <td>5400</td>\n",
              "    </tr>\n",
              "    <tr>\n",
              "      <th>2021-08-26</th>\n",
              "      <td>55988.410156</td>\n",
              "      <td>56112.390625</td>\n",
              "      <td>55854.070312</td>\n",
              "      <td>55949.101562</td>\n",
              "      <td>55949.101562</td>\n",
              "      <td>8300</td>\n",
              "    </tr>\n",
              "    <tr>\n",
              "      <th>2021-08-27</th>\n",
              "      <td>55862.929688</td>\n",
              "      <td>56188.230469</td>\n",
              "      <td>55675.871094</td>\n",
              "      <td>56124.718750</td>\n",
              "      <td>56124.718750</td>\n",
              "      <td>6000</td>\n",
              "    </tr>\n",
              "    <tr>\n",
              "      <th>2021-08-30</th>\n",
              "      <td>56329.250000</td>\n",
              "      <td>56958.269531</td>\n",
              "      <td>56309.859375</td>\n",
              "      <td>56889.761719</td>\n",
              "      <td>56889.761719</td>\n",
              "      <td>6600</td>\n",
              "    </tr>\n",
              "    <tr>\n",
              "      <th>2021-08-31</th>\n",
              "      <td>56995.148438</td>\n",
              "      <td>57625.261719</td>\n",
              "      <td>56859.101562</td>\n",
              "      <td>57552.390625</td>\n",
              "      <td>57552.390625</td>\n",
              "      <td>11200</td>\n",
              "    </tr>\n",
              "  </tbody>\n",
              "</table>\n",
              "<p>1391 rows × 6 columns</p>\n",
              "</div>"
            ],
            "text/plain": [
              "                    open          high  ...      adjclose  volume\n",
              "Date                                    ...                      \n",
              "2016-01-04  26116.519531  26116.519531  ...  25623.349609    9100\n",
              "2016-01-05  25744.699219  25766.759766  ...  25580.339844   10300\n",
              "2016-01-06  25628.230469  25632.570312  ...  25406.330078   13400\n",
              "2016-01-07  25224.699219  25230.349609  ...  24851.830078   11800\n",
              "2016-01-08  24969.019531  25083.550781  ...  24934.330078   15900\n",
              "...                  ...           ...  ...           ...     ...\n",
              "2021-08-25  56067.058594  56198.128906  ...  55944.210938    5400\n",
              "2021-08-26  55988.410156  56112.390625  ...  55949.101562    8300\n",
              "2021-08-27  55862.929688  56188.230469  ...  56124.718750    6000\n",
              "2021-08-30  56329.250000  56958.269531  ...  56889.761719    6600\n",
              "2021-08-31  56995.148438  57625.261719  ...  57552.390625   11200\n",
              "\n",
              "[1391 rows x 6 columns]"
            ]
          },
          "execution_count": 123,
          "metadata": {},
          "output_type": "execute_result"
        }
      ]
    },
    {
      "cell_type": "code",
      "metadata": {
        "colab": {
          "base_uri": "https://localhost:8080/",
          "height": 297
        },
        "id": "BHGzpu8Tkhwz",
        "outputId": "8faa3441-5668-4645-c102-f4c3e6b0622b"
      },
      "source": [
        "bse_data.describe()"
      ],
      "execution_count": null,
      "outputs": [
        {
          "data": {
            "text/html": [
              "<div>\n",
              "<style scoped>\n",
              "    .dataframe tbody tr th:only-of-type {\n",
              "        vertical-align: middle;\n",
              "    }\n",
              "\n",
              "    .dataframe tbody tr th {\n",
              "        vertical-align: top;\n",
              "    }\n",
              "\n",
              "    .dataframe thead th {\n",
              "        text-align: right;\n",
              "    }\n",
              "</style>\n",
              "<table border=\"1\" class=\"dataframe\">\n",
              "  <thead>\n",
              "    <tr style=\"text-align: right;\">\n",
              "      <th></th>\n",
              "      <th>open</th>\n",
              "      <th>high</th>\n",
              "      <th>low</th>\n",
              "      <th>close</th>\n",
              "      <th>adjclose</th>\n",
              "      <th>volume</th>\n",
              "    </tr>\n",
              "  </thead>\n",
              "  <tbody>\n",
              "    <tr>\n",
              "      <th>count</th>\n",
              "      <td>1391.000000</td>\n",
              "      <td>1391.000000</td>\n",
              "      <td>1391.000000</td>\n",
              "      <td>1391.000000</td>\n",
              "      <td>1391.000000</td>\n",
              "      <td>1.391000e+03</td>\n",
              "    </tr>\n",
              "    <tr>\n",
              "      <th>mean</th>\n",
              "      <td>35858.137780</td>\n",
              "      <td>36027.310847</td>\n",
              "      <td>35604.877768</td>\n",
              "      <td>35813.735153</td>\n",
              "      <td>35813.735153</td>\n",
              "      <td>2.435127e+05</td>\n",
              "    </tr>\n",
              "    <tr>\n",
              "      <th>std</th>\n",
              "      <td>7482.415325</td>\n",
              "      <td>7509.089042</td>\n",
              "      <td>7433.082331</td>\n",
              "      <td>7479.176079</td>\n",
              "      <td>7479.176079</td>\n",
              "      <td>1.997899e+06</td>\n",
              "    </tr>\n",
              "    <tr>\n",
              "      <th>min</th>\n",
              "      <td>23060.390625</td>\n",
              "      <td>23142.960938</td>\n",
              "      <td>22494.609375</td>\n",
              "      <td>22951.830078</td>\n",
              "      <td>22951.830078</td>\n",
              "      <td>1.000000e+02</td>\n",
              "    </tr>\n",
              "    <tr>\n",
              "      <th>25%</th>\n",
              "      <td>30298.540039</td>\n",
              "      <td>30583.690430</td>\n",
              "      <td>30011.785156</td>\n",
              "      <td>30222.169922</td>\n",
              "      <td>30222.169922</td>\n",
              "      <td>1.050000e+04</td>\n",
              "    </tr>\n",
              "    <tr>\n",
              "      <th>50%</th>\n",
              "      <td>35366.449219</td>\n",
              "      <td>35543.890625</td>\n",
              "      <td>35136.011719</td>\n",
              "      <td>35319.351562</td>\n",
              "      <td>35319.351562</td>\n",
              "      <td>1.420000e+04</td>\n",
              "    </tr>\n",
              "    <tr>\n",
              "      <th>75%</th>\n",
              "      <td>39159.224609</td>\n",
              "      <td>39316.675781</td>\n",
              "      <td>38882.019531</td>\n",
              "      <td>39070.625000</td>\n",
              "      <td>39070.625000</td>\n",
              "      <td>1.935000e+04</td>\n",
              "    </tr>\n",
              "    <tr>\n",
              "      <th>max</th>\n",
              "      <td>56995.148438</td>\n",
              "      <td>57625.261719</td>\n",
              "      <td>56859.101562</td>\n",
              "      <td>57552.390625</td>\n",
              "      <td>57552.390625</td>\n",
              "      <td>3.181510e+07</td>\n",
              "    </tr>\n",
              "  </tbody>\n",
              "</table>\n",
              "</div>"
            ],
            "text/plain": [
              "               open          high  ...      adjclose        volume\n",
              "count   1391.000000   1391.000000  ...   1391.000000  1.391000e+03\n",
              "mean   35858.137780  36027.310847  ...  35813.735153  2.435127e+05\n",
              "std     7482.415325   7509.089042  ...   7479.176079  1.997899e+06\n",
              "min    23060.390625  23142.960938  ...  22951.830078  1.000000e+02\n",
              "25%    30298.540039  30583.690430  ...  30222.169922  1.050000e+04\n",
              "50%    35366.449219  35543.890625  ...  35319.351562  1.420000e+04\n",
              "75%    39159.224609  39316.675781  ...  39070.625000  1.935000e+04\n",
              "max    56995.148438  57625.261719  ...  57552.390625  3.181510e+07\n",
              "\n",
              "[8 rows x 6 columns]"
            ]
          },
          "execution_count": 124,
          "metadata": {},
          "output_type": "execute_result"
        }
      ]
    },
    {
      "cell_type": "code",
      "metadata": {
        "id": "_sg3yLi1kvCW"
      },
      "source": [
        "def find_null(dft):\n",
        "    num_null = dft.isnull().sum().sort_values(ascending = False)\n",
        "    percentage_null = round(dft.isnull().sum().sort_values(ascending = False)/len(dft) * 100, 1)\n",
        "    return pd.DataFrame(np.c_[num_null, percentage_null], index = num_null.index,  columns = ['Null', 'Percentage'])"
      ],
      "execution_count": null,
      "outputs": []
    },
    {
      "cell_type": "code",
      "metadata": {
        "colab": {
          "base_uri": "https://localhost:8080/",
          "height": 235
        },
        "id": "a3sYlH1sku_2",
        "outputId": "adb000bf-0a60-48a7-bc10-6d1ea166be82"
      },
      "source": [
        "find_null(bse_data)"
      ],
      "execution_count": null,
      "outputs": [
        {
          "data": {
            "text/html": [
              "<div>\n",
              "<style scoped>\n",
              "    .dataframe tbody tr th:only-of-type {\n",
              "        vertical-align: middle;\n",
              "    }\n",
              "\n",
              "    .dataframe tbody tr th {\n",
              "        vertical-align: top;\n",
              "    }\n",
              "\n",
              "    .dataframe thead th {\n",
              "        text-align: right;\n",
              "    }\n",
              "</style>\n",
              "<table border=\"1\" class=\"dataframe\">\n",
              "  <thead>\n",
              "    <tr style=\"text-align: right;\">\n",
              "      <th></th>\n",
              "      <th>Null</th>\n",
              "      <th>Percentage</th>\n",
              "    </tr>\n",
              "  </thead>\n",
              "  <tbody>\n",
              "    <tr>\n",
              "      <th>volume</th>\n",
              "      <td>0.0</td>\n",
              "      <td>0.0</td>\n",
              "    </tr>\n",
              "    <tr>\n",
              "      <th>adjclose</th>\n",
              "      <td>0.0</td>\n",
              "      <td>0.0</td>\n",
              "    </tr>\n",
              "    <tr>\n",
              "      <th>close</th>\n",
              "      <td>0.0</td>\n",
              "      <td>0.0</td>\n",
              "    </tr>\n",
              "    <tr>\n",
              "      <th>low</th>\n",
              "      <td>0.0</td>\n",
              "      <td>0.0</td>\n",
              "    </tr>\n",
              "    <tr>\n",
              "      <th>high</th>\n",
              "      <td>0.0</td>\n",
              "      <td>0.0</td>\n",
              "    </tr>\n",
              "    <tr>\n",
              "      <th>open</th>\n",
              "      <td>0.0</td>\n",
              "      <td>0.0</td>\n",
              "    </tr>\n",
              "  </tbody>\n",
              "</table>\n",
              "</div>"
            ],
            "text/plain": [
              "          Null  Percentage\n",
              "volume     0.0         0.0\n",
              "adjclose   0.0         0.0\n",
              "close      0.0         0.0\n",
              "low        0.0         0.0\n",
              "high       0.0         0.0\n",
              "open       0.0         0.0"
            ]
          },
          "execution_count": 126,
          "metadata": {},
          "output_type": "execute_result"
        }
      ]
    },
    {
      "cell_type": "code",
      "metadata": {
        "colab": {
          "base_uri": "https://localhost:8080/",
          "height": 204
        },
        "id": "eNQRGVrFQJZZ",
        "outputId": "e37cc196-5b9b-438a-c143-cc6240322073"
      },
      "source": [
        "bse_data.reset_index(inplace=True)\n",
        "bse_data.rename(columns={'Date': 'date'}, inplace = True)\n",
        "bse_data.head()"
      ],
      "execution_count": null,
      "outputs": [
        {
          "data": {
            "text/html": [
              "<div>\n",
              "<style scoped>\n",
              "    .dataframe tbody tr th:only-of-type {\n",
              "        vertical-align: middle;\n",
              "    }\n",
              "\n",
              "    .dataframe tbody tr th {\n",
              "        vertical-align: top;\n",
              "    }\n",
              "\n",
              "    .dataframe thead th {\n",
              "        text-align: right;\n",
              "    }\n",
              "</style>\n",
              "<table border=\"1\" class=\"dataframe\">\n",
              "  <thead>\n",
              "    <tr style=\"text-align: right;\">\n",
              "      <th></th>\n",
              "      <th>date</th>\n",
              "      <th>open</th>\n",
              "      <th>high</th>\n",
              "      <th>low</th>\n",
              "      <th>close</th>\n",
              "      <th>adjclose</th>\n",
              "      <th>volume</th>\n",
              "    </tr>\n",
              "  </thead>\n",
              "  <tbody>\n",
              "    <tr>\n",
              "      <th>0</th>\n",
              "      <td>2016-01-04</td>\n",
              "      <td>26116.519531</td>\n",
              "      <td>26116.519531</td>\n",
              "      <td>25596.570312</td>\n",
              "      <td>25623.349609</td>\n",
              "      <td>25623.349609</td>\n",
              "      <td>9100</td>\n",
              "    </tr>\n",
              "    <tr>\n",
              "      <th>1</th>\n",
              "      <td>2016-01-05</td>\n",
              "      <td>25744.699219</td>\n",
              "      <td>25766.759766</td>\n",
              "      <td>25513.750000</td>\n",
              "      <td>25580.339844</td>\n",
              "      <td>25580.339844</td>\n",
              "      <td>10300</td>\n",
              "    </tr>\n",
              "    <tr>\n",
              "      <th>2</th>\n",
              "      <td>2016-01-06</td>\n",
              "      <td>25628.230469</td>\n",
              "      <td>25632.570312</td>\n",
              "      <td>25357.699219</td>\n",
              "      <td>25406.330078</td>\n",
              "      <td>25406.330078</td>\n",
              "      <td>13400</td>\n",
              "    </tr>\n",
              "    <tr>\n",
              "      <th>3</th>\n",
              "      <td>2016-01-07</td>\n",
              "      <td>25224.699219</td>\n",
              "      <td>25230.349609</td>\n",
              "      <td>24825.699219</td>\n",
              "      <td>24851.830078</td>\n",
              "      <td>24851.830078</td>\n",
              "      <td>11800</td>\n",
              "    </tr>\n",
              "    <tr>\n",
              "      <th>4</th>\n",
              "      <td>2016-01-08</td>\n",
              "      <td>24969.019531</td>\n",
              "      <td>25083.550781</td>\n",
              "      <td>24887.220703</td>\n",
              "      <td>24934.330078</td>\n",
              "      <td>24934.330078</td>\n",
              "      <td>15900</td>\n",
              "    </tr>\n",
              "  </tbody>\n",
              "</table>\n",
              "</div>"
            ],
            "text/plain": [
              "        date          open          high  ...         close      adjclose  volume\n",
              "0 2016-01-04  26116.519531  26116.519531  ...  25623.349609  25623.349609    9100\n",
              "1 2016-01-05  25744.699219  25766.759766  ...  25580.339844  25580.339844   10300\n",
              "2 2016-01-06  25628.230469  25632.570312  ...  25406.330078  25406.330078   13400\n",
              "3 2016-01-07  25224.699219  25230.349609  ...  24851.830078  24851.830078   11800\n",
              "4 2016-01-08  24969.019531  25083.550781  ...  24934.330078  24934.330078   15900\n",
              "\n",
              "[5 rows x 7 columns]"
            ]
          },
          "execution_count": 127,
          "metadata": {},
          "output_type": "execute_result"
        }
      ]
    },
    {
      "cell_type": "code",
      "metadata": {
        "colab": {
          "base_uri": "https://localhost:8080/"
        },
        "id": "UzTNUHEPQbnb",
        "outputId": "54e4c6e2-1cd5-457c-9525-f36f08ec794a"
      },
      "source": [
        "bse_data.isna().sum()"
      ],
      "execution_count": null,
      "outputs": [
        {
          "data": {
            "text/plain": [
              "date        0\n",
              "open        0\n",
              "high        0\n",
              "low         0\n",
              "close       0\n",
              "adjclose    0\n",
              "volume      0\n",
              "dtype: int64"
            ]
          },
          "execution_count": 128,
          "metadata": {},
          "output_type": "execute_result"
        }
      ]
    },
    {
      "cell_type": "code",
      "metadata": {
        "colab": {
          "base_uri": "https://localhost:8080/",
          "height": 1000
        },
        "id": "sy_ro25qfbSb",
        "outputId": "b8754af0-bd7a-426c-dfe1-3b0e570f695d"
      },
      "source": [
        "poll= ['open','high','low','close','adjclose','volume']\n",
        "for pollutant in poll:\n",
        "    bse_data.plot.line(x='date', y=pollutant, color='red')"
      ],
      "execution_count": null,
      "outputs": [
        {
          "data": {
            "image/png": "[encoded data removed]",
            "text/plain": [
              "<Figure size 432x288 with 1 Axes>"
            ]
          },
          "metadata": {},
          "output_type": "display_data"
        },
        {
          "data": {
            "image/png": "[encoded data removed]",
            "text/plain": [
              "<Figure size 432x288 with 1 Axes>"
            ]
          },
          "metadata": {},
          "output_type": "display_data"
        },
        {
          "data": {
            "image/png": "[encoded data removed]",
            "text/plain": [
              "<Figure size 432x288 with 1 Axes>"
            ]
          },
          "metadata": {},
          "output_type": "display_data"
        },
        {
          "data": {
            "image/png": "[encoded data removed]",
            "text/plain": [
              "<Figure size 432x288 with 1 Axes>"
            ]
          },
          "metadata": {},
          "output_type": "display_data"
        },
        {
          "data": {
            "image/png": "[encoded data removed]",
            "text/plain": [
              "<Figure size 432x288 with 1 Axes>"
            ]
          },
          "metadata": {},
          "output_type": "display_data"
        },
        {
          "data": {
            "image/png": "[encoded data removed]",
            "text/plain": [
              "<Figure size 432x288 with 1 Axes>"
            ]
          },
          "metadata": {},
          "output_type": "display_data"
        }
      ]
    },
    {
      "cell_type": "code",
      "metadata": {
        "id": "_5pbGeJGfbK4"
      },
      "source": [
        "bse_data['date'] = pd.to_datetime(bse_data.date, format ='%Y/%m/%d')\n",
        "data = bse_data.drop(['date'], axis=1)\n",
        "data.index = bse_data.date"
      ],
      "execution_count": null,
      "outputs": []
    },
    {
      "cell_type": "code",
      "metadata": {
        "id": "8SAE6jhKle0C"
      },
      "source": [
        "split_date = '31-08-2019'\n",
        "ts_train = data.loc[data.index <= split_date].copy()\n",
        "ts_test = data.loc[data.index > split_date].copy()"
      ],
      "execution_count": null,
      "outputs": []
    },
    {
      "cell_type": "code",
      "metadata": {
        "colab": {
          "base_uri": "https://localhost:8080/",
          "height": 419
        },
        "id": "CNacluXelexE",
        "outputId": "384cae12-bc42-4d66-c4ae-631d121511b8"
      },
      "source": [
        "ts_train.reset_index() \\\n",
        "    .rename(columns={'Date':'ds','volume':'y'})"
      ],
      "execution_count": null,
      "outputs": [
        {
          "data": {
            "text/html": [
              "<div>\n",
              "<style scoped>\n",
              "    .dataframe tbody tr th:only-of-type {\n",
              "        vertical-align: middle;\n",
              "    }\n",
              "\n",
              "    .dataframe tbody tr th {\n",
              "        vertical-align: top;\n",
              "    }\n",
              "\n",
              "    .dataframe thead th {\n",
              "        text-align: right;\n",
              "    }\n",
              "</style>\n",
              "<table border=\"1\" class=\"dataframe\">\n",
              "  <thead>\n",
              "    <tr style=\"text-align: right;\">\n",
              "      <th></th>\n",
              "      <th>date</th>\n",
              "      <th>open</th>\n",
              "      <th>high</th>\n",
              "      <th>low</th>\n",
              "      <th>close</th>\n",
              "      <th>adjclose</th>\n",
              "      <th>y</th>\n",
              "    </tr>\n",
              "  </thead>\n",
              "  <tbody>\n",
              "    <tr>\n",
              "      <th>0</th>\n",
              "      <td>2016-01-04</td>\n",
              "      <td>26116.519531</td>\n",
              "      <td>26116.519531</td>\n",
              "      <td>25596.570312</td>\n",
              "      <td>25623.349609</td>\n",
              "      <td>25623.349609</td>\n",
              "      <td>9100</td>\n",
              "    </tr>\n",
              "    <tr>\n",
              "      <th>1</th>\n",
              "      <td>2016-01-05</td>\n",
              "      <td>25744.699219</td>\n",
              "      <td>25766.759766</td>\n",
              "      <td>25513.750000</td>\n",
              "      <td>25580.339844</td>\n",
              "      <td>25580.339844</td>\n",
              "      <td>10300</td>\n",
              "    </tr>\n",
              "    <tr>\n",
              "      <th>2</th>\n",
              "      <td>2016-01-06</td>\n",
              "      <td>25628.230469</td>\n",
              "      <td>25632.570312</td>\n",
              "      <td>25357.699219</td>\n",
              "      <td>25406.330078</td>\n",
              "      <td>25406.330078</td>\n",
              "      <td>13400</td>\n",
              "    </tr>\n",
              "    <tr>\n",
              "      <th>3</th>\n",
              "      <td>2016-01-07</td>\n",
              "      <td>25224.699219</td>\n",
              "      <td>25230.349609</td>\n",
              "      <td>24825.699219</td>\n",
              "      <td>24851.830078</td>\n",
              "      <td>24851.830078</td>\n",
              "      <td>11800</td>\n",
              "    </tr>\n",
              "    <tr>\n",
              "      <th>4</th>\n",
              "      <td>2016-01-08</td>\n",
              "      <td>24969.019531</td>\n",
              "      <td>25083.550781</td>\n",
              "      <td>24887.220703</td>\n",
              "      <td>24934.330078</td>\n",
              "      <td>24934.330078</td>\n",
              "      <td>15900</td>\n",
              "    </tr>\n",
              "    <tr>\n",
              "      <th>...</th>\n",
              "      <td>...</td>\n",
              "      <td>...</td>\n",
              "      <td>...</td>\n",
              "      <td>...</td>\n",
              "      <td>...</td>\n",
              "      <td>...</td>\n",
              "      <td>...</td>\n",
              "    </tr>\n",
              "    <tr>\n",
              "      <th>896</th>\n",
              "      <td>2019-08-26</td>\n",
              "      <td>37363.949219</td>\n",
              "      <td>37544.480469</td>\n",
              "      <td>36492.648438</td>\n",
              "      <td>37494.121094</td>\n",
              "      <td>37494.121094</td>\n",
              "      <td>35600</td>\n",
              "    </tr>\n",
              "    <tr>\n",
              "      <th>897</th>\n",
              "      <td>2019-08-27</td>\n",
              "      <td>37658.480469</td>\n",
              "      <td>37731.511719</td>\n",
              "      <td>37449.691406</td>\n",
              "      <td>37641.269531</td>\n",
              "      <td>37641.269531</td>\n",
              "      <td>36500</td>\n",
              "    </tr>\n",
              "    <tr>\n",
              "      <th>898</th>\n",
              "      <td>2019-08-28</td>\n",
              "      <td>37655.769531</td>\n",
              "      <td>37687.820312</td>\n",
              "      <td>37249.191406</td>\n",
              "      <td>37451.839844</td>\n",
              "      <td>37451.839844</td>\n",
              "      <td>28600</td>\n",
              "    </tr>\n",
              "    <tr>\n",
              "      <th>899</th>\n",
              "      <td>2019-08-29</td>\n",
              "      <td>37381.800781</td>\n",
              "      <td>37381.800781</td>\n",
              "      <td>36987.351562</td>\n",
              "      <td>37068.929688</td>\n",
              "      <td>37068.929688</td>\n",
              "      <td>31700</td>\n",
              "    </tr>\n",
              "    <tr>\n",
              "      <th>900</th>\n",
              "      <td>2019-08-30</td>\n",
              "      <td>37222.261719</td>\n",
              "      <td>37397.968750</td>\n",
              "      <td>36829.808594</td>\n",
              "      <td>37332.789062</td>\n",
              "      <td>37332.789062</td>\n",
              "      <td>33400</td>\n",
              "    </tr>\n",
              "  </tbody>\n",
              "</table>\n",
              "<p>901 rows × 7 columns</p>\n",
              "</div>"
            ],
            "text/plain": [
              "          date          open          high  ...         close      adjclose      y\n",
              "0   2016-01-04  26116.519531  26116.519531  ...  25623.349609  25623.349609   9100\n",
              "1   2016-01-05  25744.699219  25766.759766  ...  25580.339844  25580.339844  10300\n",
              "2   2016-01-06  25628.230469  25632.570312  ...  25406.330078  25406.330078  13400\n",
              "3   2016-01-07  25224.699219  25230.349609  ...  24851.830078  24851.830078  11800\n",
              "4   2016-01-08  24969.019531  25083.550781  ...  24934.330078  24934.330078  15900\n",
              "..         ...           ...           ...  ...           ...           ...    ...\n",
              "896 2019-08-26  37363.949219  37544.480469  ...  37494.121094  37494.121094  35600\n",
              "897 2019-08-27  37658.480469  37731.511719  ...  37641.269531  37641.269531  36500\n",
              "898 2019-08-28  37655.769531  37687.820312  ...  37451.839844  37451.839844  28600\n",
              "899 2019-08-29  37381.800781  37381.800781  ...  37068.929688  37068.929688  31700\n",
              "900 2019-08-30  37222.261719  37397.968750  ...  37332.789062  37332.789062  33400\n",
              "\n",
              "[901 rows x 7 columns]"
            ]
          },
          "execution_count": 133,
          "metadata": {},
          "output_type": "execute_result"
        }
      ]
    },
    {
      "cell_type": "code",
      "metadata": {
        "colab": {
          "base_uri": "https://localhost:8080/"
        },
        "id": "vvJpd0G0letb",
        "outputId": "cb9b81b0-6807-4cea-b515-955fa6d9df97"
      },
      "source": [
        "# Setup and train model and fit\n",
        "model = Prophet()\n",
        "model.fit(ts_train.reset_index() \\\n",
        "          .rename(columns={'date':'ds','open':'y'}))"
      ],
      "execution_count": null,
      "outputs": [
        {
          "name": "stderr",
          "output_type": "stream",
          "text": [
            "INFO:fbprophet:Disabling daily seasonality. Run prophet with daily_seasonality=True to override this.\n"
          ]
        },
        {
          "data": {
            "text/plain": [
              "<fbprophet.forecaster.Prophet at 0x7f72b38dc810>"
            ]
          },
          "execution_count": 135,
          "metadata": {},
          "output_type": "execute_result"
        }
      ]
    },
    {
      "cell_type": "code",
      "metadata": {
        "id": "36y_G-byleqf"
      },
      "source": [
        "# Predict on training set with model\n",
        "ts_test_fcst = model.predict(df=ts_test.reset_index() \\\n",
        "                                   .rename(columns={'date':'ds'}))\n"
      ],
      "execution_count": null,
      "outputs": []
    },
    {
      "cell_type": "code",
      "metadata": {
        "id": "Mwg9b2azlenZ"
      },
      "source": [
        "fut = list()\n",
        "for i in range(9,12):\n",
        "\tdate = '2020-%2d' %i\n",
        "\tfut.append([date])\n",
        "fut = DataFrame(fut)\n",
        "fut.columns = ['ds']\n",
        "fut['ds']= to_datetime(fut['ds'])\n",
        "# use the model to make a forecast\n",
        "forecasting = model.predict(fut)\n",
        "#print(forecast[['ds', 'yhat', 'yhat_lower', 'yhat_upper']])\n"
      ],
      "execution_count": null,
      "outputs": []
    },
    {
      "cell_type": "code",
      "metadata": {
        "colab": {
          "base_uri": "https://localhost:8080/",
          "height": 618
        },
        "id": "U9z_qc_pleke",
        "outputId": "e9d2db0d-1de3-4aa7-d272-c850cf29d862"
      },
      "source": [
        "f, ax = plt.subplots(1)\n",
        "f.set_figheight(8)\n",
        "f.set_figwidth(13)\n",
        "ax.scatter(ts_test.index, ts_test['open'], color='black')\n",
        "fig = model.plot(ts_test_fcst, ax=ax)\n",
        "fig1=model.plot(forecasting, ax=ax)\n",
        "plt.legend([\"Actual\",\"Forecasting\"])\n",
        "plt.title(\"Forecasting of stock Market\")"
      ],
      "execution_count": null,
      "outputs": [
        {
          "data": {
            "text/plain": [
              "Text(0.5, 1.0, 'Forecasting of stock Market')"
            ]
          },
          "execution_count": 150,
          "metadata": {},
          "output_type": "execute_result"
        },
        {
          "data": {
            "image/png": "[encoded data removed]",
            "text/plain": [
              "<Figure size 936x576 with 1 Axes>"
            ]
          },
          "metadata": {},
          "output_type": "display_data"
        }
      ]
    }
  ]
}